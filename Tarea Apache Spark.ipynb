{
 "cells": [
  {
   "cell_type": "markdown",
   "id": "eeb4d817-d921-412f-a876-710e38c6b8b0",
   "metadata": {},
   "source": [
    "Parte A: Pandas"
   ]
  },
  {
   "cell_type": "code",
   "execution_count": 1,
   "id": "dd5d8db7-c4da-465e-ac9b-0c9a4ed840d0",
   "metadata": {},
   "outputs": [
    {
     "name": "stdout",
     "output_type": "stream",
     "text": [
      "\u001b[33mWARNING: Package(s) not found: pandas\u001b[0m\u001b[33m\n",
      "\u001b[0m"
     ]
    }
   ],
   "source": [
    "!pip show pandas"
   ]
  },
  {
   "cell_type": "code",
   "execution_count": 2,
   "id": "63548f00-50ae-4658-b8e0-576963571794",
   "metadata": {},
   "outputs": [
    {
     "name": "stdout",
     "output_type": "stream",
     "text": [
      "Defaulting to user installation because normal site-packages is not writeable\n",
      "Collecting pandas\n",
      "  Downloading pandas-2.2.3-cp310-cp310-manylinux_2_17_x86_64.manylinux2014_x86_64.whl (13.1 MB)\n",
      "\u001b[2K     \u001b[90m━━━━━━━━━━━━━━━━━━━━━━━━━━━━━━━━━━━━━━━━\u001b[0m \u001b[32m13.1/13.1 MB\u001b[0m \u001b[31m36.0 MB/s\u001b[0m eta \u001b[36m0:00:00\u001b[0m00:01\u001b[0m00:01\u001b[0m\n",
      "\u001b[?25hRequirement already satisfied: pytz>=2020.1 in /usr/lib/python3/dist-packages (from pandas) (2022.1)\n",
      "Collecting numpy>=1.22.4\n",
      "  Downloading numpy-2.1.3-cp310-cp310-manylinux_2_17_x86_64.manylinux2014_x86_64.whl (16.3 MB)\n",
      "\u001b[2K     \u001b[90m━━━━━━━━━━━━━━━━━━━━━━━━━━━━━━━━━━━━━━━━\u001b[0m \u001b[32m16.3/16.3 MB\u001b[0m \u001b[31m46.4 MB/s\u001b[0m eta \u001b[36m0:00:00\u001b[0m00:01\u001b[0m00:01\u001b[0m\n",
      "\u001b[?25hCollecting tzdata>=2022.7\n",
      "  Downloading tzdata-2024.2-py2.py3-none-any.whl (346 kB)\n",
      "\u001b[2K     \u001b[90m━━━━━━━━━━━━━━━━━━━━━━━━━━━━━━━━━━━━━━\u001b[0m \u001b[32m346.6/346.6 KB\u001b[0m \u001b[31m37.4 MB/s\u001b[0m eta \u001b[36m0:00:00\u001b[0m\n",
      "\u001b[?25hRequirement already satisfied: python-dateutil>=2.8.2 in /usr/local/lib/python3.10/dist-packages (from pandas) (2.8.2)\n",
      "Requirement already satisfied: six>=1.5 in /usr/lib/python3/dist-packages (from python-dateutil>=2.8.2->pandas) (1.16.0)\n",
      "Installing collected packages: tzdata, numpy, pandas\n",
      "\u001b[33m  WARNING: The scripts f2py and numpy-config are installed in '/home/221c1129yulbrynner/.local/bin' which is not on PATH.\n",
      "  Consider adding this directory to PATH or, if you prefer to suppress this warning, use --no-warn-script-location.\u001b[0m\u001b[33m\n",
      "\u001b[0mSuccessfully installed numpy-2.1.3 pandas-2.2.3 tzdata-2024.2\n"
     ]
    }
   ],
   "source": [
    "!pip install pandas"
   ]
  },
  {
   "cell_type": "code",
   "execution_count": 3,
   "id": "5e9682f0-1a60-432a-8758-bfd51fc3670c",
   "metadata": {},
   "outputs": [],
   "source": [
    "import pandas as pd\n",
    "import time"
   ]
  },
  {
   "cell_type": "markdown",
   "id": "630a4257-a8d2-48e9-883b-24461380f50e",
   "metadata": {},
   "source": [
    "Carga del dataset \"ratings\" y \"movies\""
   ]
  },
  {
   "cell_type": "code",
   "execution_count": 4,
   "id": "b94b9db4-d609-4d83-820e-d6fea54ee6dd",
   "metadata": {},
   "outputs": [],
   "source": [
    "peliculas=pd.read_csv('movies.csv')\n",
    "clasificacion=pd.read_csv('ratings.csv')"
   ]
  },
  {
   "cell_type": "markdown",
   "id": "72de280b-30fe-4742-b094-7236fc638884",
   "metadata": {},
   "source": [
    "Contar tipos de valoraciones"
   ]
  },
  {
   "cell_type": "code",
   "execution_count": 7,
   "id": "c9cbc588-3332-42c3-86fb-57f9f998227d",
   "metadata": {},
   "outputs": [
    {
     "name": "stdout",
     "output_type": "stream",
     "text": [
      "Valoraciones y las frecuencias\n",
      "rating\n",
      "0.5     566306\n",
      "1.0    1013645\n",
      "1.5     562409\n",
      "2.0    2146492\n",
      "2.5    1760733\n",
      "3.0    6400664\n",
      "3.5    4465001\n",
      "4.0    8835955\n",
      "4.5    3123055\n",
      "5.0    4957902\n",
      "Name: count, dtype: int64\n",
      "Tiempo tomado:  0.22 segundos\n"
     ]
    }
   ],
   "source": [
    "tiempo_inicio=time.time()\n",
    "\n",
    "count_clasificacion=clasificacion['rating'].value_counts().sort_index()\n",
    "\n",
    "print(\"Valoraciones y las frecuencias\")\n",
    "print(count_clasificacion)\n",
    "\n",
    "tiempo_fin=time.time()\n",
    "print(f\"Tiempo tomado: {tiempo_fin - tiempo_inicio: .2f} segundos\")"
   ]
  },
  {
   "cell_type": "markdown",
   "id": "681378d0-858a-4f1a-861a-6c5b1054e6f5",
   "metadata": {},
   "source": [
    "Calcular valoracion media, además de guardar un nuevo archivo"
   ]
  },
  {
   "cell_type": "code",
   "execution_count": 9,
   "id": "89273b1a-65f7-4700-8deb-c4b8da79436b",
   "metadata": {},
   "outputs": [
    {
     "name": "stdout",
     "output_type": "stream",
     "text": [
      "Tiempo tomado: 0.70 segundos\n"
     ]
    }
   ],
   "source": [
    "tiempo_inicio=time.time()\n",
    "\n",
    "clasificacion_promedio=clasificacion.groupby('movieId')['rating'].mean()\n",
    "\n",
    "peliculas=peliculas.set_index('movieId')\n",
    "peliculas['clasificacion_promedio']=clasificacion_promedio\n",
    "peliculas.reset_index(inplace=True)\n",
    "\n",
    "peliculas.to_csv('clasificacion_peliculas.csv', index=False)\n",
    "\n",
    "tiempo_fin=time.time()\n",
    "print(f\"Tiempo tomado: {tiempo_fin-tiempo_inicio:.2f} segundos\")"
   ]
  },
  {
   "cell_type": "markdown",
   "id": "800aaf59-0954-4bb4-adcb-1501635ea006",
   "metadata": {},
   "source": [
    "Parte B: Spark"
   ]
  },
  {
   "cell_type": "code",
   "execution_count": 10,
   "id": "88e5438a-f460-423b-bd41-acb39b174835",
   "metadata": {},
   "outputs": [
    {
     "name": "stdout",
     "output_type": "stream",
     "text": [
      "Name: pyspark\n",
      "Version: 3.5.0\n",
      "Summary: Apache Spark Python API\n",
      "Home-page: https://github.com/apache/spark/tree/master/python\n",
      "Author: Spark Developers\n",
      "Author-email: dev@spark.apache.org\n",
      "License: http://www.apache.org/licenses/LICENSE-2.0\n",
      "Location: /usr/local/lib/python3.10/dist-packages\n",
      "Requires: py4j\n",
      "Required-by: \n"
     ]
    }
   ],
   "source": [
    "!pip show pyspark"
   ]
  },
  {
   "cell_type": "code",
   "execution_count": 11,
   "id": "1d8318cc-6275-47aa-9763-441ec72281e4",
   "metadata": {},
   "outputs": [],
   "source": [
    "from pyspark.sql import SparkSession\n",
    "import time"
   ]
  },
  {
   "cell_type": "code",
   "execution_count": 14,
   "id": "82c6e1fa-2763-4b2c-8cd0-2053e0396c04",
   "metadata": {},
   "outputs": [],
   "source": [
    "spark=SparkSession.builder \\\n",
    "    .appName(\"Movielens Analysis\") \\\n",
    "    .getOrCreate()\n",
    "spark.sparkContext.setLogLevel(\"ERROR\")"
   ]
  },
  {
   "cell_type": "code",
   "execution_count": 16,
   "id": "6d0fe6c2-3807-42cd-bd57-8d06249e4ce1",
   "metadata": {},
   "outputs": [
    {
     "name": "stderr",
     "output_type": "stream",
     "text": [
      "                                                                                \r"
     ]
    }
   ],
   "source": [
    "peliculas=spark.read.csv('hdfs://main:9000/tmp/movielens/movies.csv', header=True, inferSchema=True)\n",
    "clasificacion=spark.read.csv('hdfs://main:9000/tmp/movielens/ratings.csv', header=True, inferSchema=True)"
   ]
  },
  {
   "cell_type": "markdown",
   "id": "5ab74690-4ce8-4daf-a914-40d8a455a609",
   "metadata": {},
   "source": [
    "Contar tipos de valoraciones"
   ]
  },
  {
   "cell_type": "code",
   "execution_count": 18,
   "id": "9a2d102e-bfea-42c5-b5fa-32ecb5cc2eb8",
   "metadata": {},
   "outputs": [
    {
     "name": "stderr",
     "output_type": "stream",
     "text": [
      "[Stage 11:=========================>                             (30 + 34) / 64]\r"
     ]
    },
    {
     "name": "stdout",
     "output_type": "stream",
     "text": [
      "+------+-------+\n",
      "|rating|  count|\n",
      "+------+-------+\n",
      "|   0.5| 566306|\n",
      "|   1.0|1013645|\n",
      "|   1.5| 562409|\n",
      "|   2.0|2146492|\n",
      "|   2.5|1760733|\n",
      "|   3.0|6400664|\n",
      "|   3.5|4465001|\n",
      "|   4.0|8835955|\n",
      "|   4.5|3123055|\n",
      "|   5.0|4957902|\n",
      "+------+-------+\n",
      "\n",
      "Tiempo transcurrido:2.15 segundos\n"
     ]
    },
    {
     "name": "stderr",
     "output_type": "stream",
     "text": [
      "                                                                                \r"
     ]
    }
   ],
   "source": [
    "tiempo_inicio=time.time()\n",
    "recuentos_calificacion=clasificacion.groupBy('rating').count().orderBy('rating')\n",
    "recuentos_calificacion.show()\n",
    "tiempo_fin=time.time()\n",
    "print(f\"Tiempo transcurrido:{tiempo_fin-tiempo_inicio:.2f} segundos\")"
   ]
  },
  {
   "cell_type": "markdown",
   "id": "2a698c04-a547-4332-b598-2ebf4a284d57",
   "metadata": {},
   "source": [
    "Calculo valoracion media y guardado de nueov archivo"
   ]
  },
  {
   "cell_type": "code",
   "execution_count": 19,
   "id": "6eabcdd8-2234-490e-87e2-1625e3049ffb",
   "metadata": {},
   "outputs": [
    {
     "name": "stderr",
     "output_type": "stream",
     "text": [
      "[Stage 15:======================================================> (62 + 2) / 64]\r"
     ]
    },
    {
     "name": "stdout",
     "output_type": "stream",
     "text": [
      "Tiempo trascurrido:3.74 segundos\n"
     ]
    },
    {
     "name": "stderr",
     "output_type": "stream",
     "text": [
      "                                                                                \r"
     ]
    }
   ],
   "source": [
    "tiempo_inicio=time.time()\n",
    "clasificacion_promedio=clasificacion.groupBy('movieId').avg('rating').withColumnRenamed('avg(rating)','average_rating')\n",
    "peliculas_con_clasificacion=peliculas.join(clasificacion_promedio, 'movieId', 'left')\n",
    "peliculas_con_clasificacion.write.csv('peliculas_clasificacion.csv', header=True)\n",
    "fin_tiempo=time.time()\n",
    "print(f\"Tiempo trascurrido:{fin_tiempo-tiempo_inicio:.2f} segundos\")"
   ]
  },
  {
   "cell_type": "code",
   "execution_count": null,
   "id": "db694dd7-bdac-4b6e-ad63-a7a3297b7045",
   "metadata": {},
   "outputs": [],
   "source": []
  }
 ],
 "metadata": {
  "kernelspec": {
   "display_name": "Python 3 (ipykernel)",
   "language": "python",
   "name": "python3"
  },
  "language_info": {
   "codemirror_mode": {
    "name": "ipython",
    "version": 3
   },
   "file_extension": ".py",
   "mimetype": "text/x-python",
   "name": "python",
   "nbconvert_exporter": "python",
   "pygments_lexer": "ipython3",
   "version": "3.10.12"
  }
 },
 "nbformat": 4,
 "nbformat_minor": 5
}
